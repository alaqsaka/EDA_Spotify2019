{
  "nbformat": 4,
  "nbformat_minor": 0,
  "metadata": {
    "kernelspec": {
      "language": "python",
      "display_name": "Python 3",
      "name": "python3"
    },
    "language_info": {
      "pygments_lexer": "ipython3",
      "nbconvert_exporter": "python",
      "version": "3.6.4",
      "file_extension": ".py",
      "codemirror_mode": {
        "name": "ipython",
        "version": 3
      },
      "name": "python",
      "mimetype": "text/x-python"
    },
    "colab": {
      "name": "eksplorasi-data-spotify-tahun-2019 (1).ipynb",
      "provenance": [],
      "include_colab_link": true
    }
  },
  "cells": [
    {
      "cell_type": "markdown",
      "metadata": {
        "id": "view-in-github",
        "colab_type": "text"
      },
      "source": [
        "<a href=\"https://colab.research.google.com/github/alaqsaka/EDA_Spotify2019/blob/main/eksplorasi_data_spotify_tahun_2019_(1).ipynb\" target=\"_parent\"><img src=\"https://colab.research.google.com/assets/colab-badge.svg\" alt=\"Open In Colab\"/></a>"
      ]
    },
    {
      "cell_type": "markdown",
      "metadata": {
        "id": "SxxnZBzOFoxR"
      },
      "source": [
        "**Ekplorasi Data Spotify Tahun 2019**\n",
        "\n",
        "Tujuan dari notebook ini:\n",
        "    1. Mengetahui genre-genre terpopouler pada tahun 2019\n",
        "    2. Mengetahui artis terpopuler pada tahun 2019 \n",
        "    3. Mengetahui faktor-faktor yang membuat lagu menjadi populer"
      ]
    },
    {
      "cell_type": "code",
      "metadata": {
        "trusted": true,
        "colab": {
          "base_uri": "https://localhost:8080/"
        },
        "id": "vtQXrjjUFoxm",
        "outputId": "9e7b88b1-a966-488c-9254-e8b68d33a83b"
      },
      "source": [
        "# Melakukan Import Libraries\n",
        "import pandas as pd\n",
        "import numpy as np \n",
        "import matplotlib.pyplot as plt\n",
        "import seaborn as sns\n",
        "%matplotlib inline\n",
        "print(\"Setup Complete\")"
      ],
      "execution_count": 13,
      "outputs": [
        {
          "output_type": "stream",
          "text": [
            "Setup Complete\n"
          ],
          "name": "stdout"
        }
      ]
    },
    {
      "cell_type": "code",
      "metadata": {
        "trusted": true,
        "colab": {
          "base_uri": "https://localhost:8080/",
          "height": 359
        },
        "id": "W750DoPmFoxq",
        "outputId": "e594fcd5-f357-4288-aa2c-12c63688d920"
      },
      "source": [
        "# Memasukkan datasets\n",
        "data = pd.read_csv(\"top50.csv\", encoding = \"ISO-8859-1\")\n",
        "\n",
        "data.head(10) # Mencetak sepuluh data teratas pada datasets"
      ],
      "execution_count": 14,
      "outputs": [
        {
          "output_type": "execute_result",
          "data": {
            "text/html": [
              "<div>\n",
              "<style scoped>\n",
              "    .dataframe tbody tr th:only-of-type {\n",
              "        vertical-align: middle;\n",
              "    }\n",
              "\n",
              "    .dataframe tbody tr th {\n",
              "        vertical-align: top;\n",
              "    }\n",
              "\n",
              "    .dataframe thead th {\n",
              "        text-align: right;\n",
              "    }\n",
              "</style>\n",
              "<table border=\"1\" class=\"dataframe\">\n",
              "  <thead>\n",
              "    <tr style=\"text-align: right;\">\n",
              "      <th></th>\n",
              "      <th>Unnamed: 0</th>\n",
              "      <th>Track.Name</th>\n",
              "      <th>Artist.Name</th>\n",
              "      <th>Genre</th>\n",
              "      <th>Beats.Per.Minute</th>\n",
              "      <th>Energy</th>\n",
              "      <th>Danceability</th>\n",
              "      <th>Loudness..dB..</th>\n",
              "      <th>Liveness</th>\n",
              "      <th>Valence.</th>\n",
              "      <th>Length.</th>\n",
              "      <th>Acousticness..</th>\n",
              "      <th>Speechiness.</th>\n",
              "      <th>Popularity</th>\n",
              "    </tr>\n",
              "  </thead>\n",
              "  <tbody>\n",
              "    <tr>\n",
              "      <th>0</th>\n",
              "      <td>1</td>\n",
              "      <td>Señorita</td>\n",
              "      <td>Shawn Mendes</td>\n",
              "      <td>canadian pop</td>\n",
              "      <td>117</td>\n",
              "      <td>55</td>\n",
              "      <td>76</td>\n",
              "      <td>-6</td>\n",
              "      <td>8</td>\n",
              "      <td>75</td>\n",
              "      <td>191</td>\n",
              "      <td>4</td>\n",
              "      <td>3</td>\n",
              "      <td>79</td>\n",
              "    </tr>\n",
              "    <tr>\n",
              "      <th>1</th>\n",
              "      <td>2</td>\n",
              "      <td>China</td>\n",
              "      <td>Anuel AA</td>\n",
              "      <td>reggaeton flow</td>\n",
              "      <td>105</td>\n",
              "      <td>81</td>\n",
              "      <td>79</td>\n",
              "      <td>-4</td>\n",
              "      <td>8</td>\n",
              "      <td>61</td>\n",
              "      <td>302</td>\n",
              "      <td>8</td>\n",
              "      <td>9</td>\n",
              "      <td>92</td>\n",
              "    </tr>\n",
              "    <tr>\n",
              "      <th>2</th>\n",
              "      <td>3</td>\n",
              "      <td>boyfriend (with Social House)</td>\n",
              "      <td>Ariana Grande</td>\n",
              "      <td>dance pop</td>\n",
              "      <td>190</td>\n",
              "      <td>80</td>\n",
              "      <td>40</td>\n",
              "      <td>-4</td>\n",
              "      <td>16</td>\n",
              "      <td>70</td>\n",
              "      <td>186</td>\n",
              "      <td>12</td>\n",
              "      <td>46</td>\n",
              "      <td>85</td>\n",
              "    </tr>\n",
              "    <tr>\n",
              "      <th>3</th>\n",
              "      <td>4</td>\n",
              "      <td>Beautiful People (feat. Khalid)</td>\n",
              "      <td>Ed Sheeran</td>\n",
              "      <td>pop</td>\n",
              "      <td>93</td>\n",
              "      <td>65</td>\n",
              "      <td>64</td>\n",
              "      <td>-8</td>\n",
              "      <td>8</td>\n",
              "      <td>55</td>\n",
              "      <td>198</td>\n",
              "      <td>12</td>\n",
              "      <td>19</td>\n",
              "      <td>86</td>\n",
              "    </tr>\n",
              "    <tr>\n",
              "      <th>4</th>\n",
              "      <td>5</td>\n",
              "      <td>Goodbyes (Feat. Young Thug)</td>\n",
              "      <td>Post Malone</td>\n",
              "      <td>dfw rap</td>\n",
              "      <td>150</td>\n",
              "      <td>65</td>\n",
              "      <td>58</td>\n",
              "      <td>-4</td>\n",
              "      <td>11</td>\n",
              "      <td>18</td>\n",
              "      <td>175</td>\n",
              "      <td>45</td>\n",
              "      <td>7</td>\n",
              "      <td>94</td>\n",
              "    </tr>\n",
              "    <tr>\n",
              "      <th>5</th>\n",
              "      <td>6</td>\n",
              "      <td>I Don't Care (with Justin Bieber)</td>\n",
              "      <td>Ed Sheeran</td>\n",
              "      <td>pop</td>\n",
              "      <td>102</td>\n",
              "      <td>68</td>\n",
              "      <td>80</td>\n",
              "      <td>-5</td>\n",
              "      <td>9</td>\n",
              "      <td>84</td>\n",
              "      <td>220</td>\n",
              "      <td>9</td>\n",
              "      <td>4</td>\n",
              "      <td>84</td>\n",
              "    </tr>\n",
              "    <tr>\n",
              "      <th>6</th>\n",
              "      <td>7</td>\n",
              "      <td>Ransom</td>\n",
              "      <td>Lil Tecca</td>\n",
              "      <td>trap music</td>\n",
              "      <td>180</td>\n",
              "      <td>64</td>\n",
              "      <td>75</td>\n",
              "      <td>-6</td>\n",
              "      <td>7</td>\n",
              "      <td>23</td>\n",
              "      <td>131</td>\n",
              "      <td>2</td>\n",
              "      <td>29</td>\n",
              "      <td>92</td>\n",
              "    </tr>\n",
              "    <tr>\n",
              "      <th>7</th>\n",
              "      <td>8</td>\n",
              "      <td>How Do You Sleep?</td>\n",
              "      <td>Sam Smith</td>\n",
              "      <td>pop</td>\n",
              "      <td>111</td>\n",
              "      <td>68</td>\n",
              "      <td>48</td>\n",
              "      <td>-5</td>\n",
              "      <td>8</td>\n",
              "      <td>35</td>\n",
              "      <td>202</td>\n",
              "      <td>15</td>\n",
              "      <td>9</td>\n",
              "      <td>90</td>\n",
              "    </tr>\n",
              "    <tr>\n",
              "      <th>8</th>\n",
              "      <td>9</td>\n",
              "      <td>Old Town Road - Remix</td>\n",
              "      <td>Lil Nas X</td>\n",
              "      <td>country rap</td>\n",
              "      <td>136</td>\n",
              "      <td>62</td>\n",
              "      <td>88</td>\n",
              "      <td>-6</td>\n",
              "      <td>11</td>\n",
              "      <td>64</td>\n",
              "      <td>157</td>\n",
              "      <td>5</td>\n",
              "      <td>10</td>\n",
              "      <td>87</td>\n",
              "    </tr>\n",
              "    <tr>\n",
              "      <th>9</th>\n",
              "      <td>10</td>\n",
              "      <td>bad guy</td>\n",
              "      <td>Billie Eilish</td>\n",
              "      <td>electropop</td>\n",
              "      <td>135</td>\n",
              "      <td>43</td>\n",
              "      <td>70</td>\n",
              "      <td>-11</td>\n",
              "      <td>10</td>\n",
              "      <td>56</td>\n",
              "      <td>194</td>\n",
              "      <td>33</td>\n",
              "      <td>38</td>\n",
              "      <td>95</td>\n",
              "    </tr>\n",
              "  </tbody>\n",
              "</table>\n",
              "</div>"
            ],
            "text/plain": [
              "   Unnamed: 0                         Track.Name  ... Speechiness. Popularity\n",
              "0           1                           Señorita  ...            3         79\n",
              "1           2                              China  ...            9         92\n",
              "2           3      boyfriend (with Social House)  ...           46         85\n",
              "3           4    Beautiful People (feat. Khalid)  ...           19         86\n",
              "4           5        Goodbyes (Feat. Young Thug)  ...            7         94\n",
              "5           6  I Don't Care (with Justin Bieber)  ...            4         84\n",
              "6           7                             Ransom  ...           29         92\n",
              "7           8                  How Do You Sleep?  ...            9         90\n",
              "8           9              Old Town Road - Remix  ...           10         87\n",
              "9          10                            bad guy  ...           38         95\n",
              "\n",
              "[10 rows x 14 columns]"
            ]
          },
          "metadata": {
            "tags": []
          },
          "execution_count": 14
        }
      ]
    },
    {
      "cell_type": "code",
      "metadata": {
        "trusted": true,
        "colab": {
          "base_uri": "https://localhost:8080/"
        },
        "id": "SNhI_k-ZFoxr",
        "outputId": "5fe620ab-981d-4d73-ef12-2b2f09e0c893"
      },
      "source": [
        "# Mencetak ukuan dari datasets\n",
        "\n",
        "data.shape"
      ],
      "execution_count": 15,
      "outputs": [
        {
          "output_type": "execute_result",
          "data": {
            "text/plain": [
              "(50, 14)"
            ]
          },
          "metadata": {
            "tags": []
          },
          "execution_count": 15
        }
      ]
    },
    {
      "cell_type": "code",
      "metadata": {
        "trusted": true,
        "colab": {
          "base_uri": "https://localhost:8080/"
        },
        "id": "3Z3rJUwrFoxs",
        "outputId": "b01c51e7-3966-4e05-d15c-033482a44169"
      },
      "source": [
        "# Mencetak tipa-tipe data dari datasets\n",
        "\n",
        "print(data.dtypes)"
      ],
      "execution_count": 16,
      "outputs": [
        {
          "output_type": "stream",
          "text": [
            "Unnamed: 0           int64\n",
            "Track.Name          object\n",
            "Artist.Name         object\n",
            "Genre               object\n",
            "Beats.Per.Minute     int64\n",
            "Energy               int64\n",
            "Danceability         int64\n",
            "Loudness..dB..       int64\n",
            "Liveness             int64\n",
            "Valence.             int64\n",
            "Length.              int64\n",
            "Acousticness..       int64\n",
            "Speechiness.         int64\n",
            "Popularity           int64\n",
            "dtype: object\n"
          ],
          "name": "stdout"
        }
      ]
    },
    {
      "cell_type": "code",
      "metadata": {
        "trusted": true,
        "colab": {
          "base_uri": "https://localhost:8080/"
        },
        "id": "oei_f52CFoxu",
        "outputId": "cb5004ed-a825-4a1f-a022-31085e8ad508"
      },
      "source": [
        "# Menghitung jumlah lagu pada tiap genres\n",
        "\n",
        "print(type(data['Genre']))\n",
        "genre_terpopuler=data.groupby('Genre').size().unique\n",
        "print(genre_terpopuler)\n",
        "list_genre=data['Genre'].values.tolist()"
      ],
      "execution_count": 17,
      "outputs": [
        {
          "output_type": "stream",
          "text": [
            "<class 'pandas.core.series.Series'>\n",
            "<bound method Series.unique of Genre\n",
            "atl hip hop         1\n",
            "australian pop      1\n",
            "big room            1\n",
            "boy band            1\n",
            "brostep             2\n",
            "canadian hip hop    3\n",
            "canadian pop        2\n",
            "country rap         2\n",
            "dance pop           8\n",
            "dfw rap             2\n",
            "edm                 3\n",
            "electropop          2\n",
            "escape room         1\n",
            "latin               5\n",
            "panamanian pop      2\n",
            "pop                 7\n",
            "pop house           1\n",
            "r&b en espanol      1\n",
            "reggaeton           2\n",
            "reggaeton flow      2\n",
            "trap music          1\n",
            "dtype: int64>\n"
          ],
          "name": "stdout"
        }
      ]
    },
    {
      "cell_type": "code",
      "metadata": {
        "trusted": true,
        "colab": {
          "base_uri": "https://localhost:8080/",
          "height": 768
        },
        "id": "ni7MUxgGFoxv",
        "outputId": "178df724-96f4-4c96-e048-5f4d9933c40d"
      },
      "source": [
        "# Menampilkan Trending Genre Terlaris \n",
        "\n",
        "xtick = ['atl hip hop', 'australian pop ', 'big room', 'boy band', 'brostep'\n",
        "        'canadian hip hop', 'canadian pop', 'country pop', 'country rap', \n",
        "        'dance pop', 'dfw rap', 'edm', 'electropop', 'escape room', 'latin', \n",
        "        'panamanian pop', 'pop', 'pop house', 'r&b en espanol', 'reggaeton', \n",
        "        'reggaeton flow', 'trap music']\n",
        "\n",
        "panjang = np.arange(len(xtick)) # np.arange berguna untuk mengembalikan nilai dari interval yang diberikan. \n",
        "# Interval yang diberikan pada variabel length adalah panjang dari xtick, yakni 21. \n",
        "\n",
        "genre_groupby = data.groupby('Genre')['Track.Name'].agg(len) \n",
        "plt.figure(figsize=(15,10))\n",
        "\n",
        "plt.bar(panjang, genre_groupby, color = \"gray\") # Membuat bar plot \n",
        "# Panjang adalah sumbu-x dan genre_groupby sebagai sumbu-y \n",
        "\n",
        "plt.xticks(panjang, xtick) # xticks digunakan untuk mendapatkan atau menentukan lokasi dan \n",
        "# labels dari sumbu-x\n",
        "plt.xticks(rotation = 90) # Memutar 90 derajat untuk genre \n",
        "# Jika tidak ada plt.xticks(rotation = 90), maka nama-nama genre akan bertabrakan\n",
        "plt.xlabel('Genre', fontsize = 18) # Memberikan judul(label) untuk sumbu-x\n",
        "plt.ylabel('Jumlah lagu', fontsize = 18) # Memberikan judul(label) untuk sumbu-y\n",
        "plt.title('Jumlah lagu untuk setiap genre', fontsize=23) # Menambahkan judul untuk figure \n",
        "plt.annotate('Genre terlaris di tahun 2019', xy=(8,8), xytext=(0.5,6),\n",
        "            arrowprops=dict(arrowstyle='-'), fontsize = 12\n",
        "            ) # Memberikan tanda untuk mempermudah menunjukkan data "
      ],
      "execution_count": 18,
      "outputs": [
        {
          "output_type": "execute_result",
          "data": {
            "text/plain": [
              "Text(0.5, 6, 'Genre terlaris di tahun 2019')"
            ]
          },
          "metadata": {
            "tags": []
          },
          "execution_count": 18
        },
        {
          "output_type": "display_data",
          "data": {
            "image/png": "[encoded data removed]",
            "text/plain": [
              "<Figure size 1080x720 with 1 Axes>"
            ]
          },
          "metadata": {
            "tags": [],
            "needs_background": "light"
          }
        }
      ]
    },
    {
      "cell_type": "markdown",
      "metadata": {
        "id": "lAbZmC0IFoxx"
      },
      "source": [
        "Berdasarkan diagram di atas, dapat diketahui bahwa genre terpopoler pada tahun 2019 adalah **dance pop** \n",
        "dengan jumlah 8 lagu untuk genre tersebut."
      ]
    },
    {
      "cell_type": "code",
      "metadata": {
        "trusted": true,
        "colab": {
          "base_uri": "https://localhost:8080/",
          "height": 204
        },
        "id": "3AzzzjHPFoxy",
        "outputId": "51e77670-36d1-4344-bfc6-392c2dbde303"
      },
      "source": [
        "# Mengetahui artis terpopouler pada tahun 2019 berdasarkan Spotify \n",
        "\n",
        "# Mencari data artis-artis \n",
        "\n",
        "data_artis = pd.read_csv(\"top50.csv\", encoding = \"ISO-8859-1\")\n",
        "\n",
        "data_artis.head()"
      ],
      "execution_count": 19,
      "outputs": [
        {
          "output_type": "execute_result",
          "data": {
            "text/html": [
              "<div>\n",
              "<style scoped>\n",
              "    .dataframe tbody tr th:only-of-type {\n",
              "        vertical-align: middle;\n",
              "    }\n",
              "\n",
              "    .dataframe tbody tr th {\n",
              "        vertical-align: top;\n",
              "    }\n",
              "\n",
              "    .dataframe thead th {\n",
              "        text-align: right;\n",
              "    }\n",
              "</style>\n",
              "<table border=\"1\" class=\"dataframe\">\n",
              "  <thead>\n",
              "    <tr style=\"text-align: right;\">\n",
              "      <th></th>\n",
              "      <th>Unnamed: 0</th>\n",
              "      <th>Track.Name</th>\n",
              "      <th>Artist.Name</th>\n",
              "      <th>Genre</th>\n",
              "      <th>Beats.Per.Minute</th>\n",
              "      <th>Energy</th>\n",
              "      <th>Danceability</th>\n",
              "      <th>Loudness..dB..</th>\n",
              "      <th>Liveness</th>\n",
              "      <th>Valence.</th>\n",
              "      <th>Length.</th>\n",
              "      <th>Acousticness..</th>\n",
              "      <th>Speechiness.</th>\n",
              "      <th>Popularity</th>\n",
              "    </tr>\n",
              "  </thead>\n",
              "  <tbody>\n",
              "    <tr>\n",
              "      <th>0</th>\n",
              "      <td>1</td>\n",
              "      <td>Señorita</td>\n",
              "      <td>Shawn Mendes</td>\n",
              "      <td>canadian pop</td>\n",
              "      <td>117</td>\n",
              "      <td>55</td>\n",
              "      <td>76</td>\n",
              "      <td>-6</td>\n",
              "      <td>8</td>\n",
              "      <td>75</td>\n",
              "      <td>191</td>\n",
              "      <td>4</td>\n",
              "      <td>3</td>\n",
              "      <td>79</td>\n",
              "    </tr>\n",
              "    <tr>\n",
              "      <th>1</th>\n",
              "      <td>2</td>\n",
              "      <td>China</td>\n",
              "      <td>Anuel AA</td>\n",
              "      <td>reggaeton flow</td>\n",
              "      <td>105</td>\n",
              "      <td>81</td>\n",
              "      <td>79</td>\n",
              "      <td>-4</td>\n",
              "      <td>8</td>\n",
              "      <td>61</td>\n",
              "      <td>302</td>\n",
              "      <td>8</td>\n",
              "      <td>9</td>\n",
              "      <td>92</td>\n",
              "    </tr>\n",
              "    <tr>\n",
              "      <th>2</th>\n",
              "      <td>3</td>\n",
              "      <td>boyfriend (with Social House)</td>\n",
              "      <td>Ariana Grande</td>\n",
              "      <td>dance pop</td>\n",
              "      <td>190</td>\n",
              "      <td>80</td>\n",
              "      <td>40</td>\n",
              "      <td>-4</td>\n",
              "      <td>16</td>\n",
              "      <td>70</td>\n",
              "      <td>186</td>\n",
              "      <td>12</td>\n",
              "      <td>46</td>\n",
              "      <td>85</td>\n",
              "    </tr>\n",
              "    <tr>\n",
              "      <th>3</th>\n",
              "      <td>4</td>\n",
              "      <td>Beautiful People (feat. Khalid)</td>\n",
              "      <td>Ed Sheeran</td>\n",
              "      <td>pop</td>\n",
              "      <td>93</td>\n",
              "      <td>65</td>\n",
              "      <td>64</td>\n",
              "      <td>-8</td>\n",
              "      <td>8</td>\n",
              "      <td>55</td>\n",
              "      <td>198</td>\n",
              "      <td>12</td>\n",
              "      <td>19</td>\n",
              "      <td>86</td>\n",
              "    </tr>\n",
              "    <tr>\n",
              "      <th>4</th>\n",
              "      <td>5</td>\n",
              "      <td>Goodbyes (Feat. Young Thug)</td>\n",
              "      <td>Post Malone</td>\n",
              "      <td>dfw rap</td>\n",
              "      <td>150</td>\n",
              "      <td>65</td>\n",
              "      <td>58</td>\n",
              "      <td>-4</td>\n",
              "      <td>11</td>\n",
              "      <td>18</td>\n",
              "      <td>175</td>\n",
              "      <td>45</td>\n",
              "      <td>7</td>\n",
              "      <td>94</td>\n",
              "    </tr>\n",
              "  </tbody>\n",
              "</table>\n",
              "</div>"
            ],
            "text/plain": [
              "   Unnamed: 0                       Track.Name  ... Speechiness. Popularity\n",
              "0           1                         Señorita  ...            3         79\n",
              "1           2                            China  ...            9         92\n",
              "2           3    boyfriend (with Social House)  ...           46         85\n",
              "3           4  Beautiful People (feat. Khalid)  ...           19         86\n",
              "4           5      Goodbyes (Feat. Young Thug)  ...            7         94\n",
              "\n",
              "[5 rows x 14 columns]"
            ]
          },
          "metadata": {
            "tags": []
          },
          "execution_count": 19
        }
      ]
    },
    {
      "cell_type": "code",
      "metadata": {
        "trusted": true,
        "colab": {
          "base_uri": "https://localhost:8080/"
        },
        "id": "GjxzrUU-Foxz",
        "outputId": "fa30683f-3fce-44ff-e209-f9adeeb77313"
      },
      "source": [
        "# Mencetak tipe data dari dataset\n",
        "print(data_artis.dtypes)\n",
        "\n",
        "# Mengetahi siapa saja artis yang ada di dataset\n",
        "data_artis['Artist.Name'].values.tolist()\n",
        "\n"
      ],
      "execution_count": 20,
      "outputs": [
        {
          "output_type": "stream",
          "text": [
            "Unnamed: 0           int64\n",
            "Track.Name          object\n",
            "Artist.Name         object\n",
            "Genre               object\n",
            "Beats.Per.Minute     int64\n",
            "Energy               int64\n",
            "Danceability         int64\n",
            "Loudness..dB..       int64\n",
            "Liveness             int64\n",
            "Valence.             int64\n",
            "Length.              int64\n",
            "Acousticness..       int64\n",
            "Speechiness.         int64\n",
            "Popularity           int64\n",
            "dtype: object\n"
          ],
          "name": "stdout"
        },
        {
          "output_type": "execute_result",
          "data": {
            "text/plain": [
              "['Shawn Mendes',\n",
              " 'Anuel AA',\n",
              " 'Ariana Grande',\n",
              " 'Ed Sheeran',\n",
              " 'Post Malone',\n",
              " 'Ed Sheeran',\n",
              " 'Lil Tecca',\n",
              " 'Sam Smith',\n",
              " 'Lil Nas X',\n",
              " 'Billie Eilish',\n",
              " 'Bad Bunny',\n",
              " 'DJ Snake',\n",
              " 'Lewis Capaldi',\n",
              " 'Sech',\n",
              " 'Drake',\n",
              " 'Chris Brown',\n",
              " 'J Balvin',\n",
              " 'Post Malone',\n",
              " 'Y2K',\n",
              " 'Lizzo',\n",
              " 'MEDUZA',\n",
              " 'Lil Nas X',\n",
              " 'Jhay Cortez',\n",
              " 'Lunay',\n",
              " 'Billie Eilish',\n",
              " 'Shawn Mendes',\n",
              " 'Tones and I',\n",
              " 'Ali Gatie',\n",
              " 'Daddy Yankee',\n",
              " 'J Balvin',\n",
              " 'The Chainsmokers',\n",
              " 'Ariana Grande',\n",
              " 'Maluma',\n",
              " 'Young Thug',\n",
              " 'Katy Perry',\n",
              " 'Martin Garrix',\n",
              " 'Sech',\n",
              " 'Ed Sheeran',\n",
              " 'Jonas Brothers',\n",
              " 'Lauv',\n",
              " 'Kygo',\n",
              " 'Taylor Swift',\n",
              " 'Lady Gaga',\n",
              " 'Khalid',\n",
              " 'ROSALÍA',\n",
              " 'Marshmello',\n",
              " 'Nicky Jam',\n",
              " 'Marshmello',\n",
              " 'The Chainsmokers',\n",
              " 'Ed Sheeran']"
            ]
          },
          "metadata": {
            "tags": []
          },
          "execution_count": 20
        }
      ]
    },
    {
      "cell_type": "markdown",
      "metadata": {
        "id": "WyMgt5jKFox0"
      },
      "source": [
        "Data di atas menunjukkan seluruh artis yang ada di urutan 50 terpopoler pada tahun 2019. Namun, cara tersebut tidak efisien untuk mengetahui siapa yang terpopoluer. \n",
        "Oleh karena itu, kita lakukan dengan cara di bawah ini. "
      ]
    },
    {
      "cell_type": "code",
      "metadata": {
        "trusted": true,
        "colab": {
          "base_uri": "https://localhost:8080/"
        },
        "id": "ihcw1efCFox1",
        "outputId": "e3135f14-f560-4a9d-f303-34366787bc47"
      },
      "source": [
        "list_artis = data_artis['Artist.Name'].unique()\n",
        "print(list_artis)"
      ],
      "execution_count": 21,
      "outputs": [
        {
          "output_type": "stream",
          "text": [
            "['Shawn Mendes' 'Anuel AA' 'Ariana Grande' 'Ed Sheeran' 'Post Malone'\n",
            " 'Lil Tecca' 'Sam Smith' 'Lil Nas X' 'Billie Eilish' 'Bad Bunny'\n",
            " 'DJ Snake' 'Lewis Capaldi' 'Sech' 'Drake' 'Chris Brown' 'J Balvin' 'Y2K'\n",
            " 'Lizzo' 'MEDUZA' 'Jhay Cortez' 'Lunay' 'Tones and I' 'Ali Gatie'\n",
            " 'Daddy Yankee' 'The Chainsmokers' 'Maluma' 'Young Thug' 'Katy Perry'\n",
            " 'Martin Garrix' 'Jonas Brothers' 'Lauv' 'Kygo' 'Taylor Swift' 'Lady Gaga'\n",
            " 'Khalid' 'ROSALÍA' 'Marshmello' 'Nicky Jam']\n"
          ],
          "name": "stdout"
        }
      ]
    },
    {
      "cell_type": "code",
      "metadata": {
        "trusted": true,
        "colab": {
          "base_uri": "https://localhost:8080/"
        },
        "id": "j5RB2GCBFox2",
        "outputId": "38a292cc-76ac-4e48-a89e-38e08f9abf6a"
      },
      "source": [
        "# Menghitung jumlah lagu untuk setiap artis \n",
        "\n",
        "artis_terpopuler=data_artis.groupby('Artist.Name').size().unique\n",
        "list_artis_terpopuler=data_artis['Artist.Name'].values.tolist()\n",
        "print(artis_terpopuler)\n"
      ],
      "execution_count": 22,
      "outputs": [
        {
          "output_type": "stream",
          "text": [
            "<bound method Series.unique of Artist.Name\n",
            "Ali Gatie           1\n",
            "Anuel AA            1\n",
            "Ariana Grande       2\n",
            "Bad Bunny           1\n",
            "Billie Eilish       2\n",
            "Chris Brown         1\n",
            "DJ Snake            1\n",
            "Daddy Yankee        1\n",
            "Drake               1\n",
            "Ed Sheeran          4\n",
            "J Balvin            2\n",
            "Jhay Cortez         1\n",
            "Jonas Brothers      1\n",
            "Katy Perry          1\n",
            "Khalid              1\n",
            "Kygo                1\n",
            "Lady Gaga           1\n",
            "Lauv                1\n",
            "Lewis Capaldi       1\n",
            "Lil Nas X           2\n",
            "Lil Tecca           1\n",
            "Lizzo               1\n",
            "Lunay               1\n",
            "MEDUZA              1\n",
            "Maluma              1\n",
            "Marshmello          2\n",
            "Martin Garrix       1\n",
            "Nicky Jam           1\n",
            "Post Malone         2\n",
            "ROSALÍA             1\n",
            "Sam Smith           1\n",
            "Sech                2\n",
            "Shawn Mendes        2\n",
            "Taylor Swift        1\n",
            "The Chainsmokers    2\n",
            "Tones and I         1\n",
            "Y2K                 1\n",
            "Young Thug          1\n",
            "dtype: int64>\n"
          ],
          "name": "stdout"
        }
      ]
    },
    {
      "cell_type": "markdown",
      "metadata": {
        "id": "X8QTcdfjFox3"
      },
      "source": [
        "Dengan data di atas dapat diketahui jumlah lagu dari para artis, tetapi kurang baik untuk ditampilkan ke klien. Mari kita lakukan plot data agar lebih nyaman untuk dipandang dan dilakukan analisis."
      ]
    },
    {
      "cell_type": "code",
      "metadata": {
        "trusted": true,
        "colab": {
          "base_uri": "https://localhost:8080/",
          "height": 663
        },
        "id": "ORUF38UWFox4",
        "outputId": "f52f8a9f-cea7-4202-90f2-252851814da9"
      },
      "source": [
        "# Peng-inputan data-data yang ingin di-plot \n",
        "\n",
        "# Data untuk sumbu-x \n",
        "list_artis = data_artis['Artist.Name'].unique()\n",
        "\n",
        "# Data untuk sumbu-y\n",
        "panjang_y = np.arange(len(list_artis))\n",
        "\n",
        "# Artis group by\n",
        "jumlah_lagu = data_artis.groupby('Artist.Name')['Track.Name'].agg(len)\n",
        "\n",
        "plt.figure(figsize=(15,10))\n",
        "sns.barplot(list_artis, jumlah_lagu) # Memplot diagram"
      ],
      "execution_count": 23,
      "outputs": [
        {
          "output_type": "stream",
          "text": [
            "/usr/local/lib/python3.6/dist-packages/seaborn/_decorators.py:43: FutureWarning: Pass the following variables as keyword args: x, y. From version 0.12, the only valid positional argument will be `data`, and passing other arguments without an explicit keyword will result in an error or misinterpretation.\n",
            "  FutureWarning\n"
          ],
          "name": "stderr"
        },
        {
          "output_type": "execute_result",
          "data": {
            "text/plain": [
              "<matplotlib.axes._subplots.AxesSubplot at 0x7f81ce545940>"
            ]
          },
          "metadata": {
            "tags": []
          },
          "execution_count": 23
        },
        {
          "output_type": "display_data",
          "data": {
            "image/png": "[encoded data removed]",
            "text/plain": [
              "<Figure size 1080x720 with 1 Axes>"
            ]
          },
          "metadata": {
            "tags": [],
            "needs_background": "light"
          }
        }
      ]
    },
    {
      "cell_type": "markdown",
      "metadata": {
        "id": "8URzkcsPFox5"
      },
      "source": [
        "Kita sudah berhasil melakukan visualisasi data berdasarkan dataset spotify. Namun, masih harus menambahkan beberapa hal agar visualisasi data dapat lebih bagus, yakni dengan menambahkan label untuk sumbu-y, label untuk sumbu-x, judul figure, memutar 90 derajat nama-nama artis, menambahkan anotasi agar lebih mudah, dan beberapa tambahan lainnya. \n",
        "\n"
      ]
    },
    {
      "cell_type": "code",
      "metadata": {
        "trusted": true,
        "colab": {
          "base_uri": "https://localhost:8080/",
          "height": 731
        },
        "id": "6YzbuaejFox6",
        "outputId": "2c2fabab-3691-4730-bb45-d2bb5adc5ae4"
      },
      "source": [
        "# Data untuk sumbu-x \n",
        "list_artis = data_artis['Artist.Name'].unique()\n",
        "\n",
        "# Data untuk sumbu-y\n",
        "panjang_y = np.arange(len(list_artis))\n",
        "\n",
        "# Artis group by\n",
        "jumlah_lagu = data_artis.groupby('Artist.Name')['Track.Name'].agg(len)\n",
        "\n",
        "plt.figure(figsize=(15,10))\n",
        "\n",
        "# Memplot diagram\n",
        "data_artis.groupby('Artist.Name')['Track.Name'].agg(len).sort_values(ascending = False).plot(kind = 'bar', color=\"gray\")\n",
        "\n",
        "# Menambahkan judul \n",
        "plt.title(\"Jumlah lagu pada setiap artis\", fontsize = 20)\n",
        "\n",
        "# Menambahkan label untuk sumbu y dan x \n",
        "plt.xlabel('Nama Artis', fontsize=15)\n",
        "plt.ylabel('Jumlah lagu (tiap artis)', fontsize=15)\n",
        "\n",
        "plt.annotate('Artis terpopuler di tahun 2019', xy=(1,4), xytext=(2,3),\n",
        "            arrowprops=dict(arrowstyle='->'), fontsize = 12\n",
        "            ) # Memberikan tanda untuk mempermudah menunjukkan data "
      ],
      "execution_count": 24,
      "outputs": [
        {
          "output_type": "execute_result",
          "data": {
            "text/plain": [
              "Text(2, 3, 'Artis terpopuler di tahun 2019')"
            ]
          },
          "metadata": {
            "tags": []
          },
          "execution_count": 24
        },
        {
          "output_type": "display_data",
          "data": {
            "image/png": "[encoded data removed]",
            "text/plain": [
              "<Figure size 1080x720 with 1 Axes>"
            ]
          },
          "metadata": {
            "tags": [],
            "needs_background": "light"
          }
        }
      ]
    },
    {
      "cell_type": "markdown",
      "metadata": {
        "id": "HJwT8G11Fox7"
      },
      "source": [
        "Diagram di atas menunjukkan artis dengan lagu terbanyak di top 50 chart Spotify, yakni Ed Sheeran. "
      ]
    },
    {
      "cell_type": "markdown",
      "metadata": {
        "id": "pU0XiZ1XFox8"
      },
      "source": [
        "Mari kita lihat berapa lagu milik Ed Sheeran dan masuk ke dalam 50 besar. "
      ]
    },
    {
      "cell_type": "code",
      "metadata": {
        "trusted": true,
        "colab": {
          "base_uri": "https://localhost:8080/",
          "height": 204
        },
        "id": "yiNc8LHxFox9",
        "outputId": "3cf96a25-3045-43c9-af07-d0965acdf73c"
      },
      "source": [
        "ed_sheeran = pd.read_csv(\"top50.csv\", encoding = \"ISO-8859-1\")\n",
        "\n",
        "ed_sheeran.head()"
      ],
      "execution_count": 25,
      "outputs": [
        {
          "output_type": "execute_result",
          "data": {
            "text/html": [
              "<div>\n",
              "<style scoped>\n",
              "    .dataframe tbody tr th:only-of-type {\n",
              "        vertical-align: middle;\n",
              "    }\n",
              "\n",
              "    .dataframe tbody tr th {\n",
              "        vertical-align: top;\n",
              "    }\n",
              "\n",
              "    .dataframe thead th {\n",
              "        text-align: right;\n",
              "    }\n",
              "</style>\n",
              "<table border=\"1\" class=\"dataframe\">\n",
              "  <thead>\n",
              "    <tr style=\"text-align: right;\">\n",
              "      <th></th>\n",
              "      <th>Unnamed: 0</th>\n",
              "      <th>Track.Name</th>\n",
              "      <th>Artist.Name</th>\n",
              "      <th>Genre</th>\n",
              "      <th>Beats.Per.Minute</th>\n",
              "      <th>Energy</th>\n",
              "      <th>Danceability</th>\n",
              "      <th>Loudness..dB..</th>\n",
              "      <th>Liveness</th>\n",
              "      <th>Valence.</th>\n",
              "      <th>Length.</th>\n",
              "      <th>Acousticness..</th>\n",
              "      <th>Speechiness.</th>\n",
              "      <th>Popularity</th>\n",
              "    </tr>\n",
              "  </thead>\n",
              "  <tbody>\n",
              "    <tr>\n",
              "      <th>0</th>\n",
              "      <td>1</td>\n",
              "      <td>Señorita</td>\n",
              "      <td>Shawn Mendes</td>\n",
              "      <td>canadian pop</td>\n",
              "      <td>117</td>\n",
              "      <td>55</td>\n",
              "      <td>76</td>\n",
              "      <td>-6</td>\n",
              "      <td>8</td>\n",
              "      <td>75</td>\n",
              "      <td>191</td>\n",
              "      <td>4</td>\n",
              "      <td>3</td>\n",
              "      <td>79</td>\n",
              "    </tr>\n",
              "    <tr>\n",
              "      <th>1</th>\n",
              "      <td>2</td>\n",
              "      <td>China</td>\n",
              "      <td>Anuel AA</td>\n",
              "      <td>reggaeton flow</td>\n",
              "      <td>105</td>\n",
              "      <td>81</td>\n",
              "      <td>79</td>\n",
              "      <td>-4</td>\n",
              "      <td>8</td>\n",
              "      <td>61</td>\n",
              "      <td>302</td>\n",
              "      <td>8</td>\n",
              "      <td>9</td>\n",
              "      <td>92</td>\n",
              "    </tr>\n",
              "    <tr>\n",
              "      <th>2</th>\n",
              "      <td>3</td>\n",
              "      <td>boyfriend (with Social House)</td>\n",
              "      <td>Ariana Grande</td>\n",
              "      <td>dance pop</td>\n",
              "      <td>190</td>\n",
              "      <td>80</td>\n",
              "      <td>40</td>\n",
              "      <td>-4</td>\n",
              "      <td>16</td>\n",
              "      <td>70</td>\n",
              "      <td>186</td>\n",
              "      <td>12</td>\n",
              "      <td>46</td>\n",
              "      <td>85</td>\n",
              "    </tr>\n",
              "    <tr>\n",
              "      <th>3</th>\n",
              "      <td>4</td>\n",
              "      <td>Beautiful People (feat. Khalid)</td>\n",
              "      <td>Ed Sheeran</td>\n",
              "      <td>pop</td>\n",
              "      <td>93</td>\n",
              "      <td>65</td>\n",
              "      <td>64</td>\n",
              "      <td>-8</td>\n",
              "      <td>8</td>\n",
              "      <td>55</td>\n",
              "      <td>198</td>\n",
              "      <td>12</td>\n",
              "      <td>19</td>\n",
              "      <td>86</td>\n",
              "    </tr>\n",
              "    <tr>\n",
              "      <th>4</th>\n",
              "      <td>5</td>\n",
              "      <td>Goodbyes (Feat. Young Thug)</td>\n",
              "      <td>Post Malone</td>\n",
              "      <td>dfw rap</td>\n",
              "      <td>150</td>\n",
              "      <td>65</td>\n",
              "      <td>58</td>\n",
              "      <td>-4</td>\n",
              "      <td>11</td>\n",
              "      <td>18</td>\n",
              "      <td>175</td>\n",
              "      <td>45</td>\n",
              "      <td>7</td>\n",
              "      <td>94</td>\n",
              "    </tr>\n",
              "  </tbody>\n",
              "</table>\n",
              "</div>"
            ],
            "text/plain": [
              "   Unnamed: 0                       Track.Name  ... Speechiness. Popularity\n",
              "0           1                         Señorita  ...            3         79\n",
              "1           2                            China  ...            9         92\n",
              "2           3    boyfriend (with Social House)  ...           46         85\n",
              "3           4  Beautiful People (feat. Khalid)  ...           19         86\n",
              "4           5      Goodbyes (Feat. Young Thug)  ...            7         94\n",
              "\n",
              "[5 rows x 14 columns]"
            ]
          },
          "metadata": {
            "tags": []
          },
          "execution_count": 25
        }
      ]
    },
    {
      "cell_type": "code",
      "metadata": {
        "trusted": true,
        "colab": {
          "base_uri": "https://localhost:8080/"
        },
        "id": "Cj3CpN-oFox-",
        "outputId": "f8514e60-3350-4f9e-a6b2-79c5454d2164"
      },
      "source": [
        "# Informasi mengenai dataset\n",
        "\n",
        "ed_sheeran.info()"
      ],
      "execution_count": 26,
      "outputs": [
        {
          "output_type": "stream",
          "text": [
            "<class 'pandas.core.frame.DataFrame'>\n",
            "RangeIndex: 50 entries, 0 to 49\n",
            "Data columns (total 14 columns):\n",
            " #   Column            Non-Null Count  Dtype \n",
            "---  ------            --------------  ----- \n",
            " 0   Unnamed: 0        50 non-null     int64 \n",
            " 1   Track.Name        50 non-null     object\n",
            " 2   Artist.Name       50 non-null     object\n",
            " 3   Genre             50 non-null     object\n",
            " 4   Beats.Per.Minute  50 non-null     int64 \n",
            " 5   Energy            50 non-null     int64 \n",
            " 6   Danceability      50 non-null     int64 \n",
            " 7   Loudness..dB..    50 non-null     int64 \n",
            " 8   Liveness          50 non-null     int64 \n",
            " 9   Valence.          50 non-null     int64 \n",
            " 10  Length.           50 non-null     int64 \n",
            " 11  Acousticness..    50 non-null     int64 \n",
            " 12  Speechiness.      50 non-null     int64 \n",
            " 13  Popularity        50 non-null     int64 \n",
            "dtypes: int64(11), object(3)\n",
            "memory usage: 5.6+ KB\n"
          ],
          "name": "stdout"
        }
      ]
    },
    {
      "cell_type": "markdown",
      "metadata": {
        "id": "Qj56u2dsFox-"
      },
      "source": [
        "Tidak ada missing value sehingga dapat diolah lebih lanjut. "
      ]
    },
    {
      "cell_type": "code",
      "metadata": {
        "trusted": true,
        "colab": {
          "base_uri": "https://localhost:8080/",
          "height": 173
        },
        "id": "292rs7irFox_",
        "outputId": "4054525c-6d1c-461d-9d05-55e8b8ef626e"
      },
      "source": [
        "data_ed = ed_sheeran[ed_sheeran['Artist.Name']==\"Ed Sheeran\"]\n",
        "\n",
        "data_ed.head()"
      ],
      "execution_count": 27,
      "outputs": [
        {
          "output_type": "execute_result",
          "data": {
            "text/html": [
              "<div>\n",
              "<style scoped>\n",
              "    .dataframe tbody tr th:only-of-type {\n",
              "        vertical-align: middle;\n",
              "    }\n",
              "\n",
              "    .dataframe tbody tr th {\n",
              "        vertical-align: top;\n",
              "    }\n",
              "\n",
              "    .dataframe thead th {\n",
              "        text-align: right;\n",
              "    }\n",
              "</style>\n",
              "<table border=\"1\" class=\"dataframe\">\n",
              "  <thead>\n",
              "    <tr style=\"text-align: right;\">\n",
              "      <th></th>\n",
              "      <th>Unnamed: 0</th>\n",
              "      <th>Track.Name</th>\n",
              "      <th>Artist.Name</th>\n",
              "      <th>Genre</th>\n",
              "      <th>Beats.Per.Minute</th>\n",
              "      <th>Energy</th>\n",
              "      <th>Danceability</th>\n",
              "      <th>Loudness..dB..</th>\n",
              "      <th>Liveness</th>\n",
              "      <th>Valence.</th>\n",
              "      <th>Length.</th>\n",
              "      <th>Acousticness..</th>\n",
              "      <th>Speechiness.</th>\n",
              "      <th>Popularity</th>\n",
              "    </tr>\n",
              "  </thead>\n",
              "  <tbody>\n",
              "    <tr>\n",
              "      <th>3</th>\n",
              "      <td>4</td>\n",
              "      <td>Beautiful People (feat. Khalid)</td>\n",
              "      <td>Ed Sheeran</td>\n",
              "      <td>pop</td>\n",
              "      <td>93</td>\n",
              "      <td>65</td>\n",
              "      <td>64</td>\n",
              "      <td>-8</td>\n",
              "      <td>8</td>\n",
              "      <td>55</td>\n",
              "      <td>198</td>\n",
              "      <td>12</td>\n",
              "      <td>19</td>\n",
              "      <td>86</td>\n",
              "    </tr>\n",
              "    <tr>\n",
              "      <th>5</th>\n",
              "      <td>6</td>\n",
              "      <td>I Don't Care (with Justin Bieber)</td>\n",
              "      <td>Ed Sheeran</td>\n",
              "      <td>pop</td>\n",
              "      <td>102</td>\n",
              "      <td>68</td>\n",
              "      <td>80</td>\n",
              "      <td>-5</td>\n",
              "      <td>9</td>\n",
              "      <td>84</td>\n",
              "      <td>220</td>\n",
              "      <td>9</td>\n",
              "      <td>4</td>\n",
              "      <td>84</td>\n",
              "    </tr>\n",
              "    <tr>\n",
              "      <th>37</th>\n",
              "      <td>38</td>\n",
              "      <td>Antisocial (with Travis Scott)</td>\n",
              "      <td>Ed Sheeran</td>\n",
              "      <td>pop</td>\n",
              "      <td>152</td>\n",
              "      <td>82</td>\n",
              "      <td>72</td>\n",
              "      <td>-5</td>\n",
              "      <td>36</td>\n",
              "      <td>91</td>\n",
              "      <td>162</td>\n",
              "      <td>13</td>\n",
              "      <td>5</td>\n",
              "      <td>87</td>\n",
              "    </tr>\n",
              "    <tr>\n",
              "      <th>49</th>\n",
              "      <td>50</td>\n",
              "      <td>Cross Me (feat. Chance the Rapper &amp; PnB Rock)</td>\n",
              "      <td>Ed Sheeran</td>\n",
              "      <td>pop</td>\n",
              "      <td>95</td>\n",
              "      <td>79</td>\n",
              "      <td>75</td>\n",
              "      <td>-6</td>\n",
              "      <td>7</td>\n",
              "      <td>61</td>\n",
              "      <td>206</td>\n",
              "      <td>21</td>\n",
              "      <td>12</td>\n",
              "      <td>82</td>\n",
              "    </tr>\n",
              "  </tbody>\n",
              "</table>\n",
              "</div>"
            ],
            "text/plain": [
              "    Unnamed: 0  ... Popularity\n",
              "3            4  ...         86\n",
              "5            6  ...         84\n",
              "37          38  ...         87\n",
              "49          50  ...         82\n",
              "\n",
              "[4 rows x 14 columns]"
            ]
          },
          "metadata": {
            "tags": []
          },
          "execution_count": 27
        }
      ]
    },
    {
      "cell_type": "markdown",
      "metadata": {
        "id": "urbP5ZGJFoyC"
      },
      "source": [
        "Dari tabel di atas dapat diketahui bahwa Ed Sheeran memiliki empat lagu di 50 terbesar"
      ]
    }
  ]
}